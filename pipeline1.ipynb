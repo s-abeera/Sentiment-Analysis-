{
 "cells": [
  {
   "attachments": {},
   "cell_type": "markdown",
   "metadata": {},
   "source": [
    "# Sentiment Analysis of Poetry pieces\n",
    "### *Identifying cluster themes in poetry*"
   ]
  },
  {
   "attachments": {},
   "cell_type": "markdown",
   "metadata": {},
   "source": [
    "#### Table of Contents\n",
    "\n",
    "1. Introduction\n",
    "2. Importing data and packages \n",
    "3. Preprocessing\n",
    "4. Algorithm description\n",
    "5. Model description\n",
    "6. Creating a model\n",
    "<br>\n",
    "6.1 Hyperparameter tuning\n",
    "<br>\n",
    "6.2 Clusters and themes  \n",
    "7. Predictions\n",
    "8. Dicussion\n",
    "9. Executive summary\n",
    "10. References"
   ]
  },
  {
   "attachments": {},
   "cell_type": "markdown",
   "metadata": {},
   "source": [
    "_____"
   ]
  },
  {
   "attachments": {},
   "cell_type": "markdown",
   "metadata": {},
   "source": [
    "#### 1. Introduction\n",
    "\n",
    "I have been writing poetry since I was 14. My writing has always been free-style and is hard to fit into one theme. I was interested to see how the different pieces would be grouped together - were there underlying, and perhaps unconcious, patterns to my writing?\n",
    " \n",
    "The data I am using is a collection of my poetry pieces, separated into paragrpahs to preserve coherence. There are 50 entries in the data. Most of the pieces contributed approximately 3 paragraphs to the dataset, while some were standalones. However, I often write paragraphs with different themes within the same poem, hence dividing the poems to collect more data does not unnecessary bias the data. \n",
    "\n",
    "The sampling process was somewhat biased as I chose the pieces that I was comfortable sharing and didn't have too many personal details. "
   ]
  },
  {
   "attachments": {},
   "cell_type": "markdown",
   "metadata": {},
   "source": [
    "------------------------"
   ]
  },
  {
   "attachments": {},
   "cell_type": "markdown",
   "metadata": {},
   "source": [
    "#### 2 Importing data and packages\n",
    "\n",
    "of the notebook should contain well-commented code for converting this data to python readable format (and scikit-learn) and loading this data into an appropriate data structure (np.array, pandas dataframe, glob etc.)."
   ]
  },
  {
   "cell_type": "code",
   "execution_count": 1,
   "metadata": {},
   "outputs": [],
   "source": [
    "#importing basic libraries\n",
    "import pandas as pd\n",
    "import numpy as np\n",
    "import matplotlib.pyplot as plt\n",
    "import seaborn as sns"
   ]
  },
  {
   "cell_type": "code",
   "execution_count": 1,
   "metadata": {},
   "outputs": [
    {
     "name": "stdout",
     "output_type": "stream",
     "text": [
      "Collecting numpy==1.21.4\n",
      "  Downloading numpy-1.21.4-cp38-cp38-win_amd64.whl (14.0 MB)\n",
      "Installing collected packages: numpy\n",
      "  Attempting uninstall: numpy\n",
      "    Found existing installation: numpy 1.24.2\n",
      "    Uninstalling numpy-1.24.2:\n",
      "      Successfully uninstalled numpy-1.24.2\n",
      "Successfully installed numpy-1.21.4\n",
      "Note: you may need to restart the kernel to use updated packages.\n"
     ]
    },
    {
     "name": "stderr",
     "output_type": "stream",
     "text": [
      "ERROR: pip's dependency resolver does not currently take into account all the packages that are installed. This behaviour is the source of the following dependency conflicts.\n",
      "tensorflow-intel 2.11.0 requires keras<2.12,>=2.11.0, but you have keras 2.10.0 which is incompatible.\n",
      "tensorflow-intel 2.11.0 requires tensorboard<2.12,>=2.11, but you have tensorboard 2.10.1 which is incompatible.\n",
      "tensorflow-intel 2.11.0 requires tensorflow-estimator<2.12,>=2.11.0, but you have tensorflow-estimator 2.10.0 which is incompatible.\n"
     ]
    }
   ],
   "source": [
    "#pip install numpy==1.21.4"
   ]
  },
  {
   "cell_type": "code",
   "execution_count": 2,
   "metadata": {},
   "outputs": [],
   "source": [
    "#importing sklearn libraries\n",
    "from sklearn.model_selection import KFold, cross_val_score, train_test_split\n",
    "from sklearn.model_selection import GridSearchCV\n",
    "from sklearn.pipeline import Pipeline\n",
    "from sklearn.feature_extraction.text import TfidfVectorizer\n",
    "from sklearn.cluster import KMeans\n",
    "from sklearn.decomposition import PCA\n",
    "from sklearn.preprocessing import StandardScaler\n",
    "from sklearn.metrics import silhouette_score\n"
   ]
  },
  {
   "cell_type": "code",
   "execution_count": 4,
   "metadata": {},
   "outputs": [],
   "source": [
    "import nltk\n",
    "#nltk.download('punkt')\n",
    "import re\n",
    "import string\n",
    "import nltk\n",
    "pd.set_option('display.max_colwidth', 100)\n",
    "\n",
    "from nltk.tokenize import word_tokenize\n",
    "from nltk.corpus import stopwords"
   ]
  },
  {
   "cell_type": "code",
   "execution_count": 5,
   "metadata": {},
   "outputs": [
    {
     "data": {
      "text/html": [
       "<div>\n",
       "<style scoped>\n",
       "    .dataframe tbody tr th:only-of-type {\n",
       "        vertical-align: middle;\n",
       "    }\n",
       "\n",
       "    .dataframe tbody tr th {\n",
       "        vertical-align: top;\n",
       "    }\n",
       "\n",
       "    .dataframe thead th {\n",
       "        text-align: right;\n",
       "    }\n",
       "</style>\n",
       "<table border=\"1\" class=\"dataframe\">\n",
       "  <thead>\n",
       "    <tr style=\"text-align: right;\">\n",
       "      <th></th>\n",
       "      <th>poetry</th>\n",
       "    </tr>\n",
       "  </thead>\n",
       "  <tbody>\n",
       "    <tr>\n",
       "      <th>0</th>\n",
       "      <td>Night skies and tales spun from candied sugar - you listened to an entire world I had built in m...</td>\n",
       "    </tr>\n",
       "    <tr>\n",
       "      <th>1</th>\n",
       "      <td>And when I raged at the world, you took every punch without flinching for a single second. I scr...</td>\n",
       "    </tr>\n",
       "    <tr>\n",
       "      <th>2</th>\n",
       "      <td>We talked about the universe and the stars and the lines on our palms. If there was a forever, I...</td>\n",
       "    </tr>\n",
       "    <tr>\n",
       "      <th>3</th>\n",
       "      <td>Is this what home feels like? Scarred palms and chipped nails. That’s what we were and yet we fi...</td>\n",
       "    </tr>\n",
       "    <tr>\n",
       "      <th>4</th>\n",
       "      <td>Starkissed lullabies of fallen heroes and ancient kings. you remind me of the single second as t...</td>\n",
       "    </tr>\n",
       "  </tbody>\n",
       "</table>\n",
       "</div>"
      ],
      "text/plain": [
       "                                                                                                poetry\n",
       "0  Night skies and tales spun from candied sugar - you listened to an entire world I had built in m...\n",
       "1  And when I raged at the world, you took every punch without flinching for a single second. I scr...\n",
       "2  We talked about the universe and the stars and the lines on our palms. If there was a forever, I...\n",
       "3  Is this what home feels like? Scarred palms and chipped nails. That’s what we were and yet we fi...\n",
       "4  Starkissed lullabies of fallen heroes and ancient kings. you remind me of the single second as t..."
      ]
     },
     "execution_count": 5,
     "metadata": {},
     "output_type": "execute_result"
    }
   ],
   "source": [
    "# importing the data\n",
    "df = pd.read_csv('data.txt', sep = '\\n', header = None) #the data is separated by new line\n",
    "df = df.rename(columns = {0:'poetry'}) #renaming the column\n",
    "df.head()"
   ]
  },
  {
   "attachments": {},
   "cell_type": "markdown",
   "metadata": {},
   "source": [
    "--------------------"
   ]
  },
  {
   "attachments": {},
   "cell_type": "markdown",
   "metadata": {},
   "source": [
    "#### 3. Preprocessing\n",
    "\n",
    "should include a markdown section explaining any necessary cleaning, pre-processing, and feature engineering the data requires, and a include a code block completing these steps. You may also wish to perform some basic exploratory data analysis at this point reporting and visualizing some samples and appropriate descriptive statistics."
   ]
  },
  {
   "attachments": {},
   "cell_type": "markdown",
   "metadata": {},
   "source": [
    "The data processing pipeline is divided into 2 primary sections:\n",
    "1. **Converting text into vectorized matrix**\n",
    "\n",
    "- I first clean the data by removing unnecessary characters, like special characters, multiple space characters, or optionally, stop words. This reduces the size of the matrix and makes it easier to work with. \n",
    "\n",
    "- I then vectorize the data using TF-IDF. This is a common method of vectorizing text data. It is a combination of two methods: Term Frequency and Inverse Document Frequency. \n",
    "\t- Term Frequency is the number of times a word appears in a document.\n",
    "\t- Inverse Document Frequency is the inverse of the number of documents that contain the word.\n",
    "\t- TF-IDF is the product of the two. It is a measure of how important a word is to a document in a collection of documents.\n",
    "\n",
    "After processing the data, my X variable is *<50x30 sparse matrix of type '<class 'numpy.float64'>'*, a 50x30 matrix.\n",
    "\n",
    "2. **Reducing the dimensionality of the matrix**\n",
    "While the matrix allows me to run a model, it has lot of dimensions. I reduce the dimensionality of the matrix using PCA (Principal Component Analysis), so I can visualize the data. PCA is discussed in detail in the Discussion section. "
   ]
  },
  {
   "cell_type": "code",
   "execution_count": 6,
   "metadata": {},
   "outputs": [
    {
     "data": {
      "text/plain": [
       "'night skies tales spun candied sugar listened entire world built head laughed cue smiled position love never felt like breath fresh air friendship never tasted like freedom'"
      ]
     },
     "execution_count": 6,
     "metadata": {},
     "output_type": "execute_result"
    }
   ],
   "source": [
    "stopwords.words('english')\n",
    "\n",
    "def clean_data(text:str, remove_stopwords: bool = True) -> str:\n",
    "    \"\"\"\n",
    "    Preprocesses a given string of text by removing special characters, multiple space characters, and optionally, stopwords.\n",
    "\n",
    "    Args:\n",
    "        text (str): A string of text to be preprocessed.\n",
    "        remove_stopwords (bool, optional): A boolean value indicating whether or not to remove stopwords from the text. Defaults to True.\n",
    "\n",
    "    Returns:\n",
    "        str: The preprocessed string of text.\n",
    "\n",
    "    Example:\n",
    "        >>> preprocess(\"This is an example sentence! It includes special characters, such as @ and $.\", True)\n",
    "        'example sentence includes special characters'\n",
    "    \"\"\"\n",
    "    #remove special characters\n",
    "    text = re.sub(\"[^A-Za-z]+\", \" \", text)\n",
    "    \n",
    "    #remove multiple space characters\n",
    "    text = re.sub(\"\\s+\",\" \", text)\n",
    "\n",
    "    #remove stopwords\n",
    "    if remove_stopwords == True:\n",
    "        #tokenizing\n",
    "        tokens = word_tokenize(text)\n",
    "        #check for stopwords\n",
    "        tokens = [word for word in tokens if not word.lower() in stopwords.words(\"english\")]\n",
    "        text = \" \".join(tokens)\n",
    "\n",
    "    text = text.lower()\n",
    "    return text\n",
    "\n",
    "clean_data(df['poetry'][0], True)\n"
   ]
  },
  {
   "cell_type": "code",
   "execution_count": 7,
   "metadata": {},
   "outputs": [],
   "source": [
    " #using the tfidf vectorizer to convert the text into a matrix of token counts\n",
    "\n",
    "def vectorize(df):\n",
    "    \"\"\"\n",
    "    Vectorizes and scales the given text data using the TfidfVectorizer.\n",
    "\n",
    "    Args:\n",
    "        df (pd.Series): A pandas Series of text data.\n",
    "\n",
    "    Returns:\n",
    "        X (np.array): A numpy array of the vectorized text data.\n",
    "        vec (TfidfVectorizer): The fitted TfidfVectorizer object.\n",
    "    \"\"\"\n",
    "    vec = TfidfVectorizer(sublinear_tf=True, analyzer='word', norm='l2', min_df=5, max_df=0.95) \n",
    "    X_vec = vec.fit_transform(df) #fitting and transforming the data\n",
    "\n",
    "    scaler = StandardScaler(with_mean = False) #scaling the data\n",
    "    X_fit = scaler.fit(X_vec) \n",
    "    X = scaler.transform(X_vec)\n",
    "\n",
    "    return (X, vec)\n"
   ]
  },
  {
   "cell_type": "code",
   "execution_count": 14,
   "metadata": {},
   "outputs": [
    {
     "data": {
      "text/plain": [
       "(53, 33)"
      ]
     },
     "execution_count": 14,
     "metadata": {},
     "output_type": "execute_result"
    }
   ],
   "source": [
    "df['cleaned'] = df['poetry'].apply(lambda x: clean_data(x, remove_stopwords=True))\n",
    "X, vec = vectorize(df['cleaned'])\n",
    "X.shape"
   ]
  },
  {
   "attachments": {},
   "cell_type": "markdown",
   "metadata": {},
   "source": [
    "--------"
   ]
  },
  {
   "attachments": {},
   "cell_type": "markdown",
   "metadata": {},
   "source": [
    "#### 4. Algorithm description \n",
    "\n",
    "Since my data is text, I will be using a clustering algorithm, which is an unsupervised learning method. Clustering is an undirected task, meaning that there is no target variable, and is used to identify underlying patterns in the data. The task here is to group the data into clusters based on the similarity of the data points. \n",
    "\n",
    "In clustering algorithms, the number of clusters is not known beforehand. The algorithm will either try to find the optimal number of clusters based on the data, or we can hypertune this parameter. Since there is no target variable, we cannot use the accuracy metric to evaluate the model. Instead, we can use the silhouette score, which is a measure of how similar the data points are within a cluster, and how dissimilar they are from other clusters. Therefore, my data is not split into training and test sets."
   ]
  },
  {
   "attachments": {},
   "cell_type": "markdown",
   "metadata": {},
   "source": [
    "----------"
   ]
  },
  {
   "attachments": {},
   "cell_type": "markdown",
   "metadata": {},
   "source": [
    "#### 5. Model description\n",
    "\n",
    "**Kmeans clustering**\n",
    "\n",
    "The model I am using is Kmeans clustering. Kmeans is an iterative algorithm that tries to find the optimal number of clusters in the data. It does this by assigning each data point to a cluster, and then calculating the centroid of each cluster. The centroid is the mean of all the data points in the cluster. \n",
    "\n",
    "The algorithm is as follows:\n",
    "\n",
    "1. Initialize the centroids by randomly selecting k data points from the dataset.\n",
    "2. Assign each data point to the closest centroid. The closest centroid is the one with the smallest Euclidean distance.\n",
    "3. Calculate the new centroids by taking the mean of the assigned data points.\n",
    "4. Repeat steps 2 and 3 until the centroids do not change.\n",
    "\n",
    "The algorithm is guaranteed to converge, but it may not converge to the global minimum. This is why we need to run the algorithm multiple times with different initial centroids and choose the one with the lowest loss.\n",
    "\n",
    "The number of clusters is a hyperparameter that can be tuned. The optimal number of clusters is the one that minimizes the sum of squared distances between the data points and their assigned cluster centroids. This is called the within-cluster sum of squares (WCSS). The WCSS is the loss function that we are trying to minimize.\n",
    "\n",
    "The loss function is defined as:\n",
    "\n",
    "$ \\sum_{i=1}^{n} \\sum_{j=1}^{k} r_{ij} ||x_i - \\mu_j||^2 $\n",
    "\n",
    "- where $r_{ij}$ is 1 if data point $x_i$ is assigned to cluster $j$, and 0 otherwise. \n",
    "- $n$ is the number of data points.\n",
    "- $k$ is the number of clusters.\n",
    "- $x_i$ is the data point.\n",
    "- $\\mu_j$ is the centroid of cluster $j$.\n",
    "- $||x_i - \\mu_j||^2$ is the squared Euclidean distance between the data point and the centroid.\n"
   ]
  },
  {
   "attachments": {},
   "cell_type": "markdown",
   "metadata": {},
   "source": [
    "-------------"
   ]
  },
  {
   "attachments": {},
   "cell_type": "markdown",
   "metadata": {},
   "source": [
    "#### 6. Creating a model"
   ]
  },
  {
   "cell_type": "code",
   "execution_count": 15,
   "metadata": {},
   "outputs": [
    {
     "data": {
      "text/plain": [
       "((47, 33), (6, 33))"
      ]
     },
     "execution_count": 15,
     "metadata": {},
     "output_type": "execute_result"
    }
   ],
   "source": [
    "df_train, df_test = train_test_split(df, test_size=0.1, random_state=35)\n",
    "\n",
    "X_train, X_test = train_test_split(X, test_size=0.1, random_state=35)\n",
    "X_train.shape, X_test.shape"
   ]
  },
  {
   "cell_type": "code",
   "execution_count": 16,
   "metadata": {},
   "outputs": [],
   "source": [
    "def kmeans_model(X: np.ndarray, n: int) -> tuple:\n",
    "    \"\"\"\n",
    "    Creates a KMeans model with the given number of clusters and fits it to the input data. \n",
    "    Calculates the silhouette score of the resulting clusters and returns the cluster labels \n",
    "    and the silhouette score as a tuple.\n",
    "\n",
    "    Parameters:\n",
    "        X (np.ndarray): A 2D array of shape (n_samples, n_features) containing the input data to cluster.\n",
    "        n (int): The number of clusters to use in the KMeans model.\n",
    "\n",
    "    Returns:\n",
    "        tuple: A tuple of (clusters, score), where clusters is a 1D array of length n_samples \n",
    "        containing the cluster labels for each sample in X, and score is the silhouette score \n",
    "        for the resulting clustering.\n",
    "\n",
    "    \"\"\"\n",
    "    # create and fit KMeans model\n",
    "    kmeans = KMeans(n_clusters=n, random_state=35)\n",
    "    kmeans.fit(X)\n",
    "    \n",
    "    # get cluster labels and silhouette score\n",
    "    clusters = kmeans.labels_\n",
    "    score = silhouette_score(X, clusters)\n",
    "    \n",
    "    return (clusters, score)\n"
   ]
  },
  {
   "attachments": {},
   "cell_type": "markdown",
   "metadata": {},
   "source": [
    "**Silhouette score**\n",
    "\n",
    "The Silhouette score is a measure of how well the data points have been clustered. It is calculated for each data point and is between -1 and 1. A score of 1 means that the data point is very similar to other data points in the cluster, and dissimilar to data points in other clusters. A score of -1 means that the data point is not similar to other data points in the cluster, and is very similar to data points in other clusters. A score of 0 means that the data point is on or very close to the decision boundary between two clusters.\n",
    "\n",
    "The Silhouette score is calculated as follows:\n",
    "\n",
    "$ s_i = \\frac{b_i - a_i}{max(a_i, b_i)} $\n",
    "\n",
    "- $a_i$ is the mean distance between the data point and all other data points in the same cluster.\n",
    "- $b_i$ is the mean distance between the data point and all other data points in the nearest cluster.\n",
    "- $s_i$ is the Silhouette score for the data point.\n",
    "\n"
   ]
  },
  {
   "cell_type": "code",
   "execution_count": 17,
   "metadata": {},
   "outputs": [
    {
     "name": "stdout",
     "output_type": "stream",
     "text": [
      "The Silhouette score for a K means model with 3 clusters is 0.06592\n"
     ]
    }
   ],
   "source": [
    "example_model = kmeans_model(X_train, n=3)\n",
    "clusters = example_model[0]\n",
    "print(f'The Silhouette score for a K means model with 3 clusters is {example_model[1]:.4}')"
   ]
  },
  {
   "cell_type": "code",
   "execution_count": 25,
   "metadata": {},
   "outputs": [
    {
     "data": {
      "text/plain": [
       "<47x33 sparse matrix of type '<class 'numpy.float64'>'\n",
       "\twith 217 stored elements in Compressed Sparse Row format>"
      ]
     },
     "execution_count": 25,
     "metadata": {},
     "output_type": "execute_result"
    }
   ],
   "source": [
    "X"
   ]
  },
  {
   "attachments": {},
   "cell_type": "markdown",
   "metadata": {},
   "source": [
    "##### 6.1. Hyperparameter tuning"
   ]
  },
  {
   "cell_type": "code",
   "execution_count": 18,
   "metadata": {},
   "outputs": [
    {
     "data": {
      "image/png": "[encoded data removed]",
      "text/plain": [
       "<Figure size 720x432 with 1 Axes>"
      ]
     },
     "metadata": {
      "needs_background": "light"
     },
     "output_type": "display_data"
    }
   ],
   "source": [
    "wcss = []\n",
    "cluster = np.arange(1, 21)\n",
    "for i in cluster:\n",
    "    kmeans = KMeans(n_clusters=i, init = 'k-means++', random_state=35)\n",
    "    kmeans.fit(X_train)\n",
    "    wcss.append(kmeans.inertia_)\n",
    "\n",
    "plt.figure(figsize = (10, 6))\n",
    "plt.plot(cluster, wcss, color = 'black', marker = 'o')\n",
    "plt.xlabel('Number of Clusters')\n",
    "plt.ylabel('WSCC score')\n",
    "plt.title('WSCC score with different number of clusters')\n",
    "plt.show()"
   ]
  },
  {
   "attachments": {},
   "cell_type": "markdown",
   "metadata": {},
   "source": [
    "The WCSS is a function of the number of clusters. The optimal number of clusters is the one that minimizes the WCSS. However, the WCSS is not a smooth function, and it is difficult to find the global minimum. Therefore, we can use the elbow method to find the optimal number of clusters. The elbow method is a heuristic method that plots the WCSS against the number of clusters, and the optimal number of clusters is the one where the WCSS starts to flatten out.\n",
    "\n",
    "In the above plot, we do not see this happening. The WSCC decreases without flattenig out. This is either because the data is not well clustered or because there isn't enough data. This also means that we cannot use the WCSS score to find the optimal number of clusters because it shows a tendency to overfit the data. It will naturally show the lowest score for the highest possible clusters, i.e., the number of data points. \n",
    "\n",
    "Instead, we can analyze the silhouette score and cluster themes to see if adding a new cluster makes sense. If there are no new themes, then we can stop adding clusters."
   ]
  },
  {
   "attachments": {},
   "cell_type": "markdown",
   "metadata": {},
   "source": [
    "##### 6.2 Clusters and themes"
   ]
  },
  {
   "cell_type": "code",
   "execution_count": 22,
   "metadata": {},
   "outputs": [
    {
     "data": {
      "text/plain": [
       "{3: (array([1, 1, 1, 1, 1, 2, 0, 1, 1, 0, 1, 2, 1, 1, 0, 2, 1, 2, 0, 1, 1, 1,\n",
       "         1, 1, 1, 1, 1, 1, 0, 1, 1, 1, 1, 2, 1, 1, 1, 1, 1, 1, 1, 2, 1, 1,\n",
       "         1, 1, 1]),\n",
       "  0.06591604594407732),\n",
       " 4: (array([0, 2, 2, 0, 2, 0, 3, 2, 1, 3, 1, 1, 0, 2, 3, 1, 2, 1, 3, 0, 0, 2,\n",
       "         2, 2, 0, 1, 2, 0, 3, 1, 0, 0, 2, 1, 0, 0, 0, 2, 0, 0, 2, 1, 2, 0,\n",
       "         0, 0, 2]),\n",
       "  0.05945433087415224),\n",
       " 5: (array([1, 3, 4, 1, 3, 2, 1, 4, 4, 0, 3, 3, 1, 3, 0, 2, 1, 3, 0, 1, 1, 3,\n",
       "         1, 4, 4, 3, 3, 1, 0, 4, 4, 4, 1, 2, 1, 1, 1, 1, 1, 1, 4, 3, 4, 1,\n",
       "         1, 1, 4]),\n",
       "  0.05914395263168747)}"
      ]
     },
     "execution_count": 22,
     "metadata": {},
     "output_type": "execute_result"
    }
   ],
   "source": [
    "n = [3, 4, 5]\n",
    "models = {}\n",
    "\n",
    "for i in n:\n",
    "    models[i] = kmeans_model(X_train, i)\n",
    "\n",
    "models"
   ]
  },
  {
   "cell_type": "code",
   "execution_count": 23,
   "metadata": {},
   "outputs": [],
   "source": [
    "def get_top_keywords(clusters, n_terms):\n",
    "    \"\"\"\n",
    "    Get the top keywords for each cluster based on the mean TF-IDF scores.\n",
    "\n",
    "    Args:\n",
    "    - n_terms (int): The number of top keywords to return for each cluster.\n",
    "\n",
    "    Returns:\n",
    "    - None: This function does not return a value, but it prints the top keywords for each cluster.\n",
    "    \"\"\"\n",
    "    # Get the mean TF-IDF scores for each cluster\n",
    "    df_train = pd.DataFrame(X_train.todense()).groupby(clusters).mean()\n",
    "\n",
    "    # Get the feature names for the TF-IDF matrix\n",
    "    terms = vec.get_feature_names()\n",
    "\n",
    "    # Print the top keywords for each cluster\n",
    "    for i, r in df_train.iterrows():\n",
    "        print('\\nCluster {}'.format(i))\n",
    "        print(','.join([terms[t] for t in np.argsort(r)[-n_terms:]]))\n"
   ]
  },
  {
   "cell_type": "code",
   "execution_count": 24,
   "metadata": {},
   "outputs": [
    {
     "name": "stdout",
     "output_type": "stream",
     "text": [
      "For 3 clusters\n",
      "\n",
      "Cluster 0\n",
      "across,tell,sky,world,light,sun,love,eyes,way,beauty\n",
      "\n",
      "Cluster 1\n",
      "home,become,know,bones,never,feel,hands,everything,like,every\n",
      "\n",
      "Cluster 2\n",
      "someone,back,like,time,love,world,never,ever,universe,skies\n",
      "----------------------------------------\n",
      "For 4 clusters\n",
      "\n",
      "Cluster 0\n",
      "much,everything,every,become,world,home,time,many,like,feel\n",
      "\n",
      "Cluster 1\n",
      "heart,everything,every,world,like,universe,never,ever,love,skies\n",
      "\n",
      "Cluster 2\n",
      "sky,heart,one,never,war,across,tell,every,hands,bones\n",
      "\n",
      "Cluster 3\n",
      "across,tell,sky,world,light,sun,love,eyes,way,beauty\n",
      "----------------------------------------\n",
      "For 5 clusters\n",
      "\n",
      "Cluster 0\n",
      "time,across,light,tell,sky,way,sun,love,eyes,beauty\n",
      "\n",
      "Cluster 1\n",
      "sun,much,everything,like,know,many,world,become,every,feel\n",
      "\n",
      "Cluster 2\n",
      "feel,feels,hands,heart,everything,back,ever,time,skies,universe\n",
      "\n",
      "Cluster 3\n",
      "ever,world,everything,like,bones,war,tell,one,love,never\n",
      "\n",
      "Cluster 4\n",
      "every,sky,war,home,eyes,across,hands,like,heart,feels\n",
      "----------------------------------------\n"
     ]
    }
   ],
   "source": [
    "for key, value in models.items():\n",
    "    print(f'For {key} clusters')\n",
    "    cluster = value[0]\n",
    "    get_top_keywords(cluster, 10)\n",
    "    print('----------------------------------------')"
   ]
  },
  {
   "attachments": {},
   "cell_type": "markdown",
   "metadata": {},
   "source": [
    "After analyzing the clusters, I found that the optimal number of clusters is 3. After 3 clusters, themes start to repeat. To label them better, I will look at more keywords in them. "
   ]
  },
  {
   "cell_type": "code",
   "execution_count": 25,
   "metadata": {},
   "outputs": [
    {
     "name": "stdout",
     "output_type": "stream",
     "text": [
      "\n",
      "Cluster 0\n",
      "become,war,back,every,feel,know,inside,time,hands,ever,across,tell,sky,world,light,sun,love,eyes,way,beauty\n",
      "\n",
      "Cluster 1\n",
      "one,time,sky,many,across,world,tell,heart,war,feels,home,become,know,bones,never,feel,hands,everything,like,every\n",
      "\n",
      "Cluster 2\n",
      "feels,beauty,become,hands,bones,everything,eyes,feel,every,tell,someone,back,like,time,love,world,never,ever,universe,skies\n"
     ]
    }
   ],
   "source": [
    "model = KMeans(n_clusters=3, random_state=35)\n",
    "model.fit(X_train)\n",
    "clusters = model.labels_\n",
    "get_top_keywords(clusters, 20)"
   ]
  },
  {
   "attachments": {},
   "cell_type": "markdown",
   "metadata": {},
   "source": [
    "After looking at the keywords in each cluster, I found that the clusters are as follows:\n",
    "\n",
    "- Cluster 0 - *Elemental*: this cluster contains words related to the elements like sky and making comparisons of different aspects of life to abstract elemenets. \n",
    "- Cluster 1 - *Solitude*: this cluster contains words related to loneliness and what the process of feeling alone feels \n",
    "- Cluster 2 - *Intimacy*: this cluster contains words related to love and relationships and has a general positive tone. \n"
   ]
  },
  {
   "cell_type": "code",
   "execution_count": 26,
   "metadata": {},
   "outputs": [
    {
     "name": "stderr",
     "output_type": "stream",
     "text": [
      "<ipython-input-26-01c4f1f7b5a1>:1: SettingWithCopyWarning: \n",
      "A value is trying to be set on a copy of a slice from a DataFrame.\n",
      "Try using .loc[row_indexer,col_indexer] = value instead\n",
      "\n",
      "See the caveats in the documentation: https://pandas.pydata.org/pandas-docs/stable/user_guide/indexing.html#returning-a-view-versus-a-copy\n",
      "  df_train['cluster'] = clusters\n",
      "<ipython-input-26-01c4f1f7b5a1>:4: SettingWithCopyWarning: \n",
      "A value is trying to be set on a copy of a slice from a DataFrame.\n",
      "Try using .loc[row_indexer,col_indexer] = value instead\n",
      "\n",
      "See the caveats in the documentation: https://pandas.pydata.org/pandas-docs/stable/user_guide/indexing.html#returning-a-view-versus-a-copy\n",
      "  df_train['cluster'] = df_train['cluster'].map(cluster_map)\n"
     ]
    },
    {
     "data": {
      "text/html": [
       "<div>\n",
       "<style scoped>\n",
       "    .dataframe tbody tr th:only-of-type {\n",
       "        vertical-align: middle;\n",
       "    }\n",
       "\n",
       "    .dataframe tbody tr th {\n",
       "        vertical-align: top;\n",
       "    }\n",
       "\n",
       "    .dataframe thead th {\n",
       "        text-align: right;\n",
       "    }\n",
       "</style>\n",
       "<table border=\"1\" class=\"dataframe\">\n",
       "  <thead>\n",
       "    <tr style=\"text-align: right;\">\n",
       "      <th></th>\n",
       "      <th>poetry</th>\n",
       "      <th>cleaned</th>\n",
       "      <th>cluster</th>\n",
       "    </tr>\n",
       "  </thead>\n",
       "  <tbody>\n",
       "    <tr>\n",
       "      <th>48</th>\n",
       "      <td>Knowledge is poisonous for those who do not know how to handle it. Not everyone knows how to swi...</td>\n",
       "      <td>knowledge poisonous know handle everyone knows swing double edged blade hold fragility ticking t...</td>\n",
       "      <td>Solitude</td>\n",
       "    </tr>\n",
       "    <tr>\n",
       "      <th>32</th>\n",
       "      <td>To the boy who never broke Only bent into jagged pieces one by one. You have stood with tremblin...</td>\n",
       "      <td>boy never broke bent jagged pieces one one stood trembling rage long long limbed fingers sharp e...</td>\n",
       "      <td>Solitude</td>\n",
       "    </tr>\n",
       "    <tr>\n",
       "      <th>20</th>\n",
       "      <td>But it feels like the slow burning of jumping into a frozen lake instead. It is ice and frost an...</td>\n",
       "      <td>feels like slow burning jumping frozen lake instead ice frost winter nights brutal sky bed snow ...</td>\n",
       "      <td>Solitude</td>\n",
       "    </tr>\n",
       "    <tr>\n",
       "      <th>51</th>\n",
       "      <td>There are empty corridors where the first rays of sunlight flitter through like muffled laughter...</td>\n",
       "      <td>empty corridors first rays sunlight flitter like muffled laughter shy glances promised battlefie...</td>\n",
       "      <td>Solitude</td>\n",
       "    </tr>\n",
       "    <tr>\n",
       "      <th>38</th>\n",
       "      <td>Tell me how your hands beg to touch cold waters, and soft palms and the rightness of a lover bes...</td>\n",
       "      <td>tell hands beg touch cold waters soft palms rightness lover beside every one bones hand aches lo...</td>\n",
       "      <td>Solitude</td>\n",
       "    </tr>\n",
       "  </tbody>\n",
       "</table>\n",
       "</div>"
      ],
      "text/plain": [
       "                                                                                                 poetry  \\\n",
       "48  Knowledge is poisonous for those who do not know how to handle it. Not everyone knows how to swi...   \n",
       "32  To the boy who never broke Only bent into jagged pieces one by one. You have stood with tremblin...   \n",
       "20  But it feels like the slow burning of jumping into a frozen lake instead. It is ice and frost an...   \n",
       "51  There are empty corridors where the first rays of sunlight flitter through like muffled laughter...   \n",
       "38  Tell me how your hands beg to touch cold waters, and soft palms and the rightness of a lover bes...   \n",
       "\n",
       "                                                                                                cleaned  \\\n",
       "48  knowledge poisonous know handle everyone knows swing double edged blade hold fragility ticking t...   \n",
       "32  boy never broke bent jagged pieces one one stood trembling rage long long limbed fingers sharp e...   \n",
       "20  feels like slow burning jumping frozen lake instead ice frost winter nights brutal sky bed snow ...   \n",
       "51  empty corridors first rays sunlight flitter like muffled laughter shy glances promised battlefie...   \n",
       "38  tell hands beg touch cold waters soft palms rightness lover beside every one bones hand aches lo...   \n",
       "\n",
       "     cluster  \n",
       "48  Solitude  \n",
       "32  Solitude  \n",
       "20  Solitude  \n",
       "51  Solitude  \n",
       "38  Solitude  "
      ]
     },
     "execution_count": 26,
     "metadata": {},
     "output_type": "execute_result"
    }
   ],
   "source": [
    "df_train['cluster'] = clusters \n",
    "cluster_map = {0: \"Elemental\", 1: \"Solitude\", 2: \"Intimacy\"}\n",
    "# apply mapping\n",
    "df_train['cluster'] = df_train['cluster'].map(cluster_map)\n",
    "df_train.head()"
   ]
  },
  {
   "attachments": {},
   "cell_type": "markdown",
   "metadata": {},
   "source": [
    "#### 7. Predictions\n",
    "\n",
    "Since I am using an unsupervised learning method, I cannot make predictions. Instead, I can use the model to cluster new data points. I will give my model a new string of text and see which cluster it belongs to."
   ]
  },
  {
   "cell_type": "code",
   "execution_count": 27,
   "metadata": {},
   "outputs": [
    {
     "name": "stderr",
     "output_type": "stream",
     "text": [
      "<ipython-input-27-b2c277e9c232>:3: SettingWithCopyWarning: \n",
      "A value is trying to be set on a copy of a slice from a DataFrame.\n",
      "Try using .loc[row_indexer,col_indexer] = value instead\n",
      "\n",
      "See the caveats in the documentation: https://pandas.pydata.org/pandas-docs/stable/user_guide/indexing.html#returning-a-view-versus-a-copy\n",
      "  df_test['cluster'] = test_clusters\n",
      "<ipython-input-27-b2c277e9c232>:4: SettingWithCopyWarning: \n",
      "A value is trying to be set on a copy of a slice from a DataFrame.\n",
      "Try using .loc[row_indexer,col_indexer] = value instead\n",
      "\n",
      "See the caveats in the documentation: https://pandas.pydata.org/pandas-docs/stable/user_guide/indexing.html#returning-a-view-versus-a-copy\n",
      "  df_test['cluster'] = df_test['cluster'].map(cluster_map)\n"
     ]
    },
    {
     "data": {
      "text/html": [
       "<div>\n",
       "<style scoped>\n",
       "    .dataframe tbody tr th:only-of-type {\n",
       "        vertical-align: middle;\n",
       "    }\n",
       "\n",
       "    .dataframe tbody tr th {\n",
       "        vertical-align: top;\n",
       "    }\n",
       "\n",
       "    .dataframe thead th {\n",
       "        text-align: right;\n",
       "    }\n",
       "</style>\n",
       "<table border=\"1\" class=\"dataframe\">\n",
       "  <thead>\n",
       "    <tr style=\"text-align: right;\">\n",
       "      <th></th>\n",
       "      <th>poetry</th>\n",
       "      <th>cleaned</th>\n",
       "      <th>cluster</th>\n",
       "    </tr>\n",
       "  </thead>\n",
       "  <tbody>\n",
       "    <tr>\n",
       "      <th>7</th>\n",
       "      <td>The callouses of your hands get stuck in their wounds. Only to brush past them when the skin hea...</td>\n",
       "      <td>callouses hands get stuck wounds brush past skin heals justice blade carves rock solace fire tem...</td>\n",
       "      <td>Solitude</td>\n",
       "    </tr>\n",
       "    <tr>\n",
       "      <th>43</th>\n",
       "      <td>You are a genius With scattered pieces of paper under your pillow Your mind is a cosmic explosio...</td>\n",
       "      <td>genius scattered pieces paper pillow mind cosmic explosion stars among glowing gases much darkne...</td>\n",
       "      <td>Solitude</td>\n",
       "    </tr>\n",
       "    <tr>\n",
       "      <th>41</th>\n",
       "      <td>You are Atlas Holding the weight of all the voices inside your head Sometimes the thoughts get t...</td>\n",
       "      <td>atlas holding weight voices inside head sometimes thoughts get much knees buckle think letting s...</td>\n",
       "      <td>Solitude</td>\n",
       "    </tr>\n",
       "    <tr>\n",
       "      <th>23</th>\n",
       "      <td>Tell me, if my bones turn into starlight one day, would your soul ever forget the way my eyes bu...</td>\n",
       "      <td>tell bones turn starlight one day would soul ever forget way eyes burn like dragon fire sun way ...</td>\n",
       "      <td>Elemental</td>\n",
       "    </tr>\n",
       "    <tr>\n",
       "      <th>14</th>\n",
       "      <td>Loving someone feels like home, like a pair of warm arms wrapped around you in an embrace filled...</td>\n",
       "      <td>loving someone feels like home like pair warm arms wrapped around embrace filled sunshine cherry...</td>\n",
       "      <td>Solitude</td>\n",
       "    </tr>\n",
       "    <tr>\n",
       "      <th>34</th>\n",
       "      <td>To the boy with smiles like the dying sun. Where have you learned such defeat? You charge head f...</td>\n",
       "      <td>boy smiles like dying sun learned defeat charge head first battles bleeding blind learned desper...</td>\n",
       "      <td>Solitude</td>\n",
       "    </tr>\n",
       "  </tbody>\n",
       "</table>\n",
       "</div>"
      ],
      "text/plain": [
       "                                                                                                 poetry  \\\n",
       "7   The callouses of your hands get stuck in their wounds. Only to brush past them when the skin hea...   \n",
       "43  You are a genius With scattered pieces of paper under your pillow Your mind is a cosmic explosio...   \n",
       "41  You are Atlas Holding the weight of all the voices inside your head Sometimes the thoughts get t...   \n",
       "23  Tell me, if my bones turn into starlight one day, would your soul ever forget the way my eyes bu...   \n",
       "14  Loving someone feels like home, like a pair of warm arms wrapped around you in an embrace filled...   \n",
       "34  To the boy with smiles like the dying sun. Where have you learned such defeat? You charge head f...   \n",
       "\n",
       "                                                                                                cleaned  \\\n",
       "7   callouses hands get stuck wounds brush past skin heals justice blade carves rock solace fire tem...   \n",
       "43  genius scattered pieces paper pillow mind cosmic explosion stars among glowing gases much darkne...   \n",
       "41  atlas holding weight voices inside head sometimes thoughts get much knees buckle think letting s...   \n",
       "23  tell bones turn starlight one day would soul ever forget way eyes burn like dragon fire sun way ...   \n",
       "14  loving someone feels like home like pair warm arms wrapped around embrace filled sunshine cherry...   \n",
       "34  boy smiles like dying sun learned defeat charge head first battles bleeding blind learned desper...   \n",
       "\n",
       "      cluster  \n",
       "7    Solitude  \n",
       "43   Solitude  \n",
       "41   Solitude  \n",
       "23  Elemental  \n",
       "14   Solitude  \n",
       "34   Solitude  "
      ]
     },
     "execution_count": 27,
     "metadata": {},
     "output_type": "execute_result"
    }
   ],
   "source": [
    "test_clusters = model.predict(X_test)\n",
    "\n",
    "df_test['cluster'] = test_clusters\n",
    "df_test['cluster'] = df_test['cluster'].map(cluster_map)\n",
    "df_test"
   ]
  },
  {
   "attachments": {},
   "cell_type": "markdown",
   "metadata": {},
   "source": [
    "The model predicts 5 out of 6 inputs correctly, just from my own judgement of what the poetry themes were. However, the training data is very small and has a lot of data points in the second cluster *Solitude* so the correctly labelled points could just be because the model is biased. "
   ]
  },
  {
   "attachments": {},
   "cell_type": "markdown",
   "metadata": {},
   "source": [
    "#### 8. Dicussion\n",
    "\n",
    "My training data is currently a 47x33 sparse matrix. I will reduce the dimensionality of the data using PCA. I will reduce the number of components to 2 so that I can visualize the data."
   ]
  },
  {
   "cell_type": "code",
   "execution_count": 38,
   "metadata": {},
   "outputs": [
    {
     "data": {
      "text/plain": [
       "(47, 33)"
      ]
     },
     "execution_count": 38,
     "metadata": {},
     "output_type": "execute_result"
    }
   ],
   "source": [
    "X_train.shape"
   ]
  },
  {
   "attachments": {},
   "cell_type": "markdown",
   "metadata": {},
   "source": [
    "\n",
    "**Principal Component Analysis (PCA)**\n",
    "\n",
    "PCA is a dimensionality reduction technique that is used to reduce the number of features in the data. It is a linear transformation method that tries to find the directions of maximum variance in high-dimensional data and projects it onto a new subspace with equal or fewer dimensions than the original one.\n",
    "\n",
    "The algorithm is as follows:\n",
    "\n",
    "1. Standardize the data.\n",
    "2. Calculate the covariance matrix of the standardized data.\n",
    "3. Calculate the eigenvectors and eigenvalues of the covariance matrix.\n",
    "4. Sort the eigenvalues in descending order and choose the top k eigenvectors.\n",
    "5. Construct a projection matrix from the selected k eigenvectors.\n",
    "6. Transform the data onto the new subspace using the projection matrix.\n",
    "\n",
    "PCA is a linear transformation method, so it is sensitive to outliers. Therefore, it is important to standardize the data before applying PCA. That is why I standardized the data in my preprocessing step.\n"
   ]
  },
  {
   "cell_type": "code",
   "execution_count": 39,
   "metadata": {},
   "outputs": [],
   "source": [
    "def vector_reduction(df, X):\n",
    "    # initialize PCA with 2 components\n",
    "    pca = PCA(n_components=2, random_state=35)\n",
    "    # pass our X to the pca and store the reduced vectors into pca_vecs\n",
    "    pca_vecs = pca.fit_transform(X.toarray())\n",
    "    # save our two dimensions into x0 and x1\n",
    "    x0 = pca_vecs[:, 0]\n",
    "    x1 = pca_vecs[:, 1]\n",
    "    df['x0'] = x0\n",
    "    df['x1'] = x1\n",
    "    return df"
   ]
  },
  {
   "cell_type": "code",
   "execution_count": 40,
   "metadata": {},
   "outputs": [
    {
     "data": {
      "text/html": [
       "<div>\n",
       "<style scoped>\n",
       "    .dataframe tbody tr th:only-of-type {\n",
       "        vertical-align: middle;\n",
       "    }\n",
       "\n",
       "    .dataframe tbody tr th {\n",
       "        vertical-align: top;\n",
       "    }\n",
       "\n",
       "    .dataframe thead th {\n",
       "        text-align: right;\n",
       "    }\n",
       "</style>\n",
       "<table border=\"1\" class=\"dataframe\">\n",
       "  <thead>\n",
       "    <tr style=\"text-align: right;\">\n",
       "      <th></th>\n",
       "      <th>poetry</th>\n",
       "      <th>cleaned</th>\n",
       "      <th>cluster</th>\n",
       "      <th>x0</th>\n",
       "      <th>x1</th>\n",
       "    </tr>\n",
       "  </thead>\n",
       "  <tbody>\n",
       "    <tr>\n",
       "      <th>48</th>\n",
       "      <td>Knowledge is poisonous for those who do not know how to handle it. Not everyone knows how to swi...</td>\n",
       "      <td>knowledge poisonous know handle everyone knows swing double edged blade hold fragility ticking t...</td>\n",
       "      <td>Solitude</td>\n",
       "      <td>-0.518962</td>\n",
       "      <td>1.914261</td>\n",
       "    </tr>\n",
       "    <tr>\n",
       "      <th>32</th>\n",
       "      <td>To the boy who never broke Only bent into jagged pieces one by one. You have stood with tremblin...</td>\n",
       "      <td>boy never broke bent jagged pieces one one stood trembling rage long long limbed fingers sharp e...</td>\n",
       "      <td>Solitude</td>\n",
       "      <td>-1.517533</td>\n",
       "      <td>0.330445</td>\n",
       "    </tr>\n",
       "    <tr>\n",
       "      <th>20</th>\n",
       "      <td>But it feels like the slow burning of jumping into a frozen lake instead. It is ice and frost an...</td>\n",
       "      <td>feels like slow burning jumping frozen lake instead ice frost winter nights brutal sky bed snow ...</td>\n",
       "      <td>Solitude</td>\n",
       "      <td>-0.385720</td>\n",
       "      <td>-2.860270</td>\n",
       "    </tr>\n",
       "    <tr>\n",
       "      <th>51</th>\n",
       "      <td>There are empty corridors where the first rays of sunlight flitter through like muffled laughter...</td>\n",
       "      <td>empty corridors first rays sunlight flitter like muffled laughter shy glances promised battlefie...</td>\n",
       "      <td>Solitude</td>\n",
       "      <td>0.888906</td>\n",
       "      <td>-0.868095</td>\n",
       "    </tr>\n",
       "    <tr>\n",
       "      <th>38</th>\n",
       "      <td>Tell me how your hands beg to touch cold waters, and soft palms and the rightness of a lover bes...</td>\n",
       "      <td>tell hands beg touch cold waters soft palms rightness lover beside every one bones hand aches lo...</td>\n",
       "      <td>Solitude</td>\n",
       "      <td>-2.134565</td>\n",
       "      <td>-0.016375</td>\n",
       "    </tr>\n",
       "  </tbody>\n",
       "</table>\n",
       "</div>"
      ],
      "text/plain": [
       "                                                                                                 poetry  \\\n",
       "48  Knowledge is poisonous for those who do not know how to handle it. Not everyone knows how to swi...   \n",
       "32  To the boy who never broke Only bent into jagged pieces one by one. You have stood with tremblin...   \n",
       "20  But it feels like the slow burning of jumping into a frozen lake instead. It is ice and frost an...   \n",
       "51  There are empty corridors where the first rays of sunlight flitter through like muffled laughter...   \n",
       "38  Tell me how your hands beg to touch cold waters, and soft palms and the rightness of a lover bes...   \n",
       "\n",
       "                                                                                                cleaned  \\\n",
       "48  knowledge poisonous know handle everyone knows swing double edged blade hold fragility ticking t...   \n",
       "32  boy never broke bent jagged pieces one one stood trembling rage long long limbed fingers sharp e...   \n",
       "20  feels like slow burning jumping frozen lake instead ice frost winter nights brutal sky bed snow ...   \n",
       "51  empty corridors first rays sunlight flitter like muffled laughter shy glances promised battlefie...   \n",
       "38  tell hands beg touch cold waters soft palms rightness lover beside every one bones hand aches lo...   \n",
       "\n",
       "     cluster        x0        x1  \n",
       "48  Solitude -0.518962  1.914261  \n",
       "32  Solitude -1.517533  0.330445  \n",
       "20  Solitude -0.385720 -2.860270  \n",
       "51  Solitude  0.888906 -0.868095  \n",
       "38  Solitude -2.134565 -0.016375  "
      ]
     },
     "execution_count": 40,
     "metadata": {},
     "output_type": "execute_result"
    }
   ],
   "source": [
    "df = vector_reduction(df_train, X_train)\n",
    "df.head()"
   ]
  },
  {
   "cell_type": "code",
   "execution_count": 41,
   "metadata": {},
   "outputs": [
    {
     "data": {
      "image/png": "[encoded data removed]",
      "text/plain": [
       "<Figure size 864x504 with 1 Axes>"
      ]
     },
     "metadata": {
      "needs_background": "light"
     },
     "output_type": "display_data"
    }
   ],
   "source": [
    "plt.figure(figsize=(12, 7))\n",
    "# set a title\n",
    "plt.title(\"Clustering themes for poem data\", fontdict={\"fontsize\": 18})\n",
    "# set axes names\n",
    "plt.xlabel(\"X0\", fontdict={\"fontsize\": 16})\n",
    "plt.ylabel(\"X1\", fontdict={\"fontsize\": 16})\n",
    "# create scatter plot with seaborn, where hue is the class used to group the data\n",
    "sns.scatterplot(data=df_train, x='x0', y='x1', hue='cluster', s=60, style ='cluster')\n",
    "plt.show()"
   ]
  },
  {
   "attachments": {},
   "cell_type": "markdown",
   "metadata": {},
   "source": [
    "The above plot shows the data points in the new 2D subspace. Each color represents a different cluster. The data points are not very distinct, and there is a lot of overlap between the clusters. We can also see many data points in the cluster *Solitude* and the most overlap can be seen between the clusters *Solitude* and *Intimacy*. Which makes sense from the perspective of the data. It is difficult to differentiate between emotions and many of the words I use for poems relating to 'Solitude' can also be used for poems relating to 'Intimacy'.\n",
    "\n",
    "The model might be performing poorly because of lack of data, or due to the vectorizer. The vectorizer only looks at the frequency of the words in the document, and not the context. Therefore, it is not able to capture the nuances of the words."
   ]
  },
  {
   "attachments": {},
   "cell_type": "markdown",
   "metadata": {},
   "source": [
    "------------"
   ]
  },
  {
   "attachments": {},
   "cell_type": "markdown",
   "metadata": {},
   "source": [
    "#### 9. Executive summary\n",
    "\n",
    "The data pipeline for this project has four distinct steps: \n",
    "1. the text data is first processed and cleaned. It had to be vectorized so that it could be used in the model. For this I used the TF-IDF vectorizer.\n",
    "2. The data is then clustered using the K-Means algorithm. The optimal number of clusters is found using the cluster themes and the Silhouette score.\n",
    "3. The model is then used to cluster new data points.\n",
    "4. The data is then reduced in dimensionality using PCA so it can be visualized and analyzed.\n",
    "\n",
    "On closer inspection of the model, I found that it is biased and makes faulty predictions at times. I identified the small sample size and the vectorization method as the key limitations for this. As the sample size cannot be changed, I looked into the latter. After further research on the limitation of TF-IDF I found that word embedding methods like Word2Vec and GloVe are better suited for this task."
   ]
  },
  {
   "attachments": {},
   "cell_type": "markdown",
   "metadata": {},
   "source": [
    "![Alt text](data%20pipeline.jpg)\n",
    "\n"
   ]
  },
  {
   "attachments": {},
   "cell_type": "markdown",
   "metadata": {},
   "source": [
    "------------------"
   ]
  },
  {
   "attachments": {},
   "cell_type": "markdown",
   "metadata": {},
   "source": [
    "#### Extension"
   ]
  },
  {
   "attachments": {},
   "cell_type": "markdown",
   "metadata": {},
   "source": [
    "**Important note**\n",
    "\n",
    "Word2Vec does not work with the old version of numpy, therefore I had to upgrade it. However, if you run the next code cell, the new version of numpy will not be compatible with the previous code. "
   ]
  },
  {
   "cell_type": "code",
   "execution_count": 16,
   "metadata": {},
   "outputs": [],
   "source": [
    "!pip install numpy==1.24.2\n"
   ]
  },
  {
   "cell_type": "code",
   "execution_count": 1,
   "metadata": {},
   "outputs": [],
   "source": [
    "import numpy as np\n",
    "import pandas as pd\n",
    "from sklearn.model_selection import train_test_split\n",
    "from sklearn.cluster import KMeans\n",
    "from sklearn.metrics import silhouette_score\n",
    "import gensim"
   ]
  },
  {
   "cell_type": "code",
   "execution_count": 3,
   "metadata": {},
   "outputs": [],
   "source": [
    "df = pd.read_csv('data.txt', sep = '\\n', header = None) #the data is separated by new line\n",
    "df = df.rename(columns = {0:'poetry'}) #renaming the column\n",
    "#df['cleaned'] = df['poetry'].apply(lambda x: clean_data(x, remove_stopwords=True))\n"
   ]
  },
  {
   "cell_type": "code",
   "execution_count": 6,
   "metadata": {},
   "outputs": [],
   "source": [
    "gensim.utils.simple_preprocess(df['poetry'][0])\n",
    "df['cleaned'] = df['poetry'].apply(lambda x: gensim.utils.simple_preprocess(x))\n",
    "X_train, X_test = train_test_split(df['cleaned'], test_size = 0.1)"
   ]
  },
  {
   "cell_type": "code",
   "execution_count": 10,
   "metadata": {},
   "outputs": [
    {
     "data": {
      "text/plain": [
       "[('and', 0.5089738368988037), ('that', 0.4910193085670471)]"
      ]
     },
     "execution_count": 10,
     "metadata": {},
     "output_type": "execute_result"
    }
   ],
   "source": [
    "w2v_model=gensim.models.Word2Vec(X_train, window=5, min_count=2, vector_size=100)\n",
    "w2v_model.wv.index_to_key\n",
    "w2v_model.wv.most_similar(\"sky\", topn=2)\n"
   ]
  },
  {
   "cell_type": "code",
   "execution_count": 11,
   "metadata": {},
   "outputs": [],
   "source": [
    "words = set(w2v_model.wv.index_to_key )\n",
    "\n",
    "X_train_vect = []\n",
    "for ls in X_train:\n",
    "    temp = []\n",
    "    for i in ls:\n",
    "        if i in words:\n",
    "            temp.append(w2v_model.wv[i])\n",
    "    X_train_vect.append(temp)"
   ]
  },
  {
   "cell_type": "code",
   "execution_count": 12,
   "metadata": {},
   "outputs": [],
   "source": [
    "X_train_vect_avg = []\n",
    "for v in X_train_vect:\n",
    "    v = np.array(v)\n",
    "    if v.size:\n",
    "        X_train_vect_avg.append(v.mean(axis=0))\n",
    "    else:\n",
    "        X_train_vect_avg.append(np.zeros(100, dtype=float))\n",
    "        "
   ]
  },
  {
   "cell_type": "code",
   "execution_count": 15,
   "metadata": {},
   "outputs": [
    {
     "data": {
      "text/plain": [
       "0.119951196"
      ]
     },
     "execution_count": 15,
     "metadata": {},
     "output_type": "execute_result"
    }
   ],
   "source": [
    "X_train_vect_avg = np.asmatrix(X_train_vect_avg)\n",
    "kmeans = KMeans(n_clusters=3, random_state=30)\n",
    "kmeans.fit(X_train_vect_avg)\n",
    "clusters = kmeans.labels_\n",
    "silhouette_score(X_train_vect_avg, clusters)\n"
   ]
  },
  {
   "attachments": {},
   "cell_type": "markdown",
   "metadata": {},
   "source": [
    "After vectorizing the data using Word2Vec, the model performs slightly better. The Silhouette score went from approximately 0.065 to 0.12. NLP is a large and rapidly expanding field and new methods are being introduced every few months. Models like ELMo could further improve the model. However, there is an extent to which the model can be improved by using a different vectorization method because the size of the data is still very small."
   ]
  },
  {
   "attachments": {},
   "cell_type": "markdown",
   "metadata": {},
   "source": [
    "#### 10. References\n",
    "\n",
    "D'Agostino. R. (2021) *Text Clustering with TF-IDF in Python* Medium https://medium.com/mlearning-ai/text-clustering-with-tf-idf-in-python-c94cd26a31e7\n",
    "\n",
    "Kumaratunga. S. (2020) *KMeans Hyper-parameters Explained with Examples* Medium https://towardsdatascience.com/kmeans-hyper-parameters-explained-with-examples-c93505820cd3\n",
    "\n",
    "Sharma. R. (2022) *What is Clustering and Different Types of Clustering Methods* upGrad https://www.upgrad.com/blog/clustering-and-types-of-clustering-methods/#:~:text=There%20are%20two%20different%20types,clustering%20technique%20is%20K%2Dmeans.\n",
    "\n",
    "Ganesan. K., (n.d.) *How to Use Tfidftransformer & Tfidfvectorizer?* Kavita Ganesan https://kavita-ganesan.com/tfidftransformer-tfidfvectorizer-usage-differences/#.Y_C6bXZBy5f\n",
    "\n",
    "Valeti D., (2021) *Classification using Word2vec* Medium https://medium.com/@dilip.voleti/classification-using-word2vec-b1d79d375381\n"
   ]
  }
 ],
 "metadata": {
  "kernelspec": {
   "display_name": "base",
   "language": "python",
   "name": "python3"
  },
  "language_info": {
   "codemirror_mode": {
    "name": "ipython",
    "version": 3
   },
   "file_extension": ".py",
   "mimetype": "text/x-python",
   "name": "python",
   "nbconvert_exporter": "python",
   "pygments_lexer": "ipython3",
   "version": "3.8.8"
  },
  "orig_nbformat": 4,
  "vscode": {
   "interpreter": {
    "hash": "d654fbae0a57ac815ab0b186b23960a90a1cffe75f9ae6b58c25dc996b6e404f"
   }
  }
 },
 "nbformat": 4,
 "nbformat_minor": 2
}
